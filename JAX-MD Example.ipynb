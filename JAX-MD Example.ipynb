{
  "nbformat": 4,
  "nbformat_minor": 0,
  "metadata": {
    "colab": {
      "provenance": [],
      "collapsed_sections": []
    },
    "kernelspec": {
      "name": "python3",
      "display_name": "Python 3"
    },
    "language_info": {
      "name": "python"
    },
    "accelerator": "GPU"
  },
  "cells": [
    {
      "cell_type": "code",
      "execution_count": null,
      "metadata": {
        "colab": {
          "base_uri": "https://localhost:8080/"
        },
        "id": "EJq9UXn70EC0",
        "outputId": "7c2e1ead-9749-4351-9bad-93f9d59dd26d"
      },
      "outputs": [
        {
          "output_type": "stream",
          "name": "stdout",
          "text": [
            "\u001b[K     |████████████████████████████████| 350 kB 12.4 MB/s \n",
            "\u001b[K     |████████████████████████████████| 90 kB 5.8 MB/s \n",
            "\u001b[?25h  Building wheel for jax-md (setup.py) ... \u001b[?25l\u001b[?25hdone\n",
            "  Installing build dependencies ... \u001b[?25l\u001b[?25hdone\n",
            "  Getting requirements to build wheel ... \u001b[?25l\u001b[?25hdone\n",
            "    Preparing wheel metadata ... \u001b[?25l\u001b[?25hdone\n",
            "\u001b[K     |████████████████████████████████| 47 kB 191 kB/s \n",
            "\u001b[?25h  Building wheel for pysages (PEP 517) ... \u001b[?25l\u001b[?25hdone\n"
          ]
        }
      ],
      "source": [
        "#@title Set up the environment\n",
        "\n",
        "!pip install -q git+https://github.com/google/jax-md.git\n",
        "!pip install -q git+https://github.com/SSAGESLabs/PySAGES.git@jax-md"
      ]
    },
    {
      "cell_type": "code",
      "source": [
        "#@title Imports & Utils\n",
        "\n",
        "import numpy as onp\n",
        "\n",
        "from jax.config import config ; config.update('jax_enable_x64', True)\n",
        "import jax.numpy as np\n",
        "from jax import random\n",
        "from jax import jit\n",
        "from jax import lax\n",
        "\n",
        "import time\n",
        "\n",
        "from jax_md import space\n",
        "from jax_md import smap\n",
        "from jax_md import energy\n",
        "from jax_md import quantity\n",
        "from jax_md import simulate\n",
        "from jax_md import partition\n",
        "\n",
        "import pysages\n",
        "import pysages.backends as pb\n",
        "\n",
        "import matplotlib\n",
        "import matplotlib.pyplot as plt\n",
        "import seaborn as sns\n",
        "  \n",
        "sns.set_style(style='white')\n",
        "\n",
        "def format_plot(x, y):  \n",
        "  plt.xlabel(x, fontsize=20)\n",
        "  plt.ylabel(y, fontsize=20)\n",
        "  \n",
        "def finalize_plot(shape=(1, 1)):\n",
        "  plt.gcf().set_size_inches(\n",
        "    shape[0] * 1.5 * plt.gcf().get_size_inches()[1], \n",
        "    shape[1] * 1.5 * plt.gcf().get_size_inches()[1])\n",
        "  plt.tight_layout()"
      ],
      "metadata": {
        "id": "NZZpkwKXpoJ1",
        "cellView": "form"
      },
      "execution_count": null,
      "outputs": []
    },
    {
      "cell_type": "markdown",
      "metadata": {
        "id": "uxCDg0ioWh70"
      },
      "source": [
        "# Constant Energy Simulation With Neighbor Lists"
      ]
    },
    {
      "cell_type": "markdown",
      "metadata": {
        "id": "rMEPhwd5Zmgh"
      },
      "source": [
        "Setup some system parameters."
      ]
    },
    {
      "cell_type": "code",
      "metadata": {
        "id": "UwCBspaWUpcq"
      },
      "source": [
        "def generate_initial_positions(particles_per_side, spacing):\n",
        "  R = onp.stack([onp.array(r) for r in onp.ndindex(*particles_per_side)]) * spacing\n",
        "  return np.array(R, np.float64)\n",
        "\n",
        "particles_per_side = (200, 200)\n",
        "spacing = np.float32(1.25)\n",
        "side_length = np.asarray(particles_per_side) * spacing\n",
        "\n",
        "R = generate_initial_positions(particles_per_side, spacing)"
      ],
      "execution_count": null,
      "outputs": []
    },
    {
      "cell_type": "code",
      "metadata": {
        "id": "2ELYvN_BVWDG"
      },
      "source": [
        "#@title Draw the initial state\n",
        "ms = 5\n",
        "R_plt = onp.array(R)\n",
        "\n",
        "plt.plot(R_plt[:, 0], R_plt[:, 1], 'o', markersize=ms * 0.5)\n",
        "\n",
        "plt.xlim([0, np.max(R[:, 0])])\n",
        "plt.ylim([0, np.max(R[:, 1])])\n",
        "\n",
        "plt.axis('off')\n",
        "\n",
        "finalize_plot((2, 2))"
      ],
      "execution_count": null,
      "outputs": []
    },
    {
      "cell_type": "code",
      "source": [
        "# format = partition.Dense\n",
        "# format = partition.Sparse\n",
        "format = partition.OrderedSparse"
      ],
      "metadata": {
        "id": "xoj9Lrd64RTR"
      },
      "execution_count": null,
      "outputs": []
    },
    {
      "cell_type": "code",
      "source": [
        "dt = 1e-3"
      ],
      "metadata": {
        "id": "kMcsRBQ-8kpc"
      },
      "execution_count": null,
      "outputs": []
    },
    {
      "cell_type": "code",
      "metadata": {
        "id": "cTSq5KH4XrxS"
      },
      "source": [
        "def generate_context(particles_per_side=particles_per_side, spacing=spacing, format=format, dt=dt):\n",
        "  # Define the simulation space\n",
        "  side_length = np.asarray(particles_per_side) * spacing\n",
        "  displacement, shift = space.periodic(side_length, wrapped=False)\n",
        "  R = generate_initial_positions(particles_per_side, spacing)\n",
        "  \n",
        "  # Define the energy function (we will use a neighbor list for this example)\n",
        "  neighbor_fn, energy_fn = energy.lennard_jones_neighbor_list(\n",
        "    displacement, side_length, format=format\n",
        "  )\n",
        "  \n",
        "  # Allocate the neighbors list\n",
        "  nbrs = neighbor_fn.allocate(R)\n",
        "  \n",
        "  # Set up the simulation\n",
        "  _init_fn, apply_fn = simulate.nve(energy_fn, shift, dt)\n",
        "\n",
        "  def init_fn(seed=0):\n",
        "    state = _init_fn(random.PRNGKey(seed), R, kT=1e-3, neighbor=nbrs)\n",
        "    return pb.JaxMDContextState(state, dict(nbrs=nbrs))\n",
        "\n",
        "  def step_fn(context_state):\n",
        "    state = context_state.state\n",
        "    nbrs = context_state.extras[\"nbrs\"]\n",
        "    nbrs = nbrs.update(state.position)\n",
        "    state = apply_fn(state, neighbor=nbrs)\n",
        "    return pb.JaxMDContextState(state, dict(nbrs=nbrs))\n",
        "\n",
        "  return pb.JaxMDContext(init_fn, step_fn, side_length, dt)"
      ],
      "execution_count": null,
      "outputs": []
    },
    {
      "cell_type": "code",
      "source": [
        "# Reference index for our Collective Variable\n",
        "j = onp.prod(particles_per_side) // 2\n",
        "# Set the list of collective variables\n",
        "collective_variables = [pysages.colvars.Distance([j, j + 1])]\n",
        "# Sampling method and its parameters\n",
        "grid = pysages.Grid(lower=2.0, upper=50.0, shape=64)\n",
        "restraints = pysages.CVRestraints(lower=2.0, upper=50.0, kl=0, ku=0.1)\n",
        "method = pysages.methods.ABF(collective_variables, grid, restraints=restraints)"
      ],
      "metadata": {
        "id": "SQBuLjoD_i9l"
      },
      "execution_count": null,
      "outputs": []
    },
    {
      "cell_type": "code",
      "source": [
        "raw_result = pysages.run(method, generate_context, int(1e5))"
      ],
      "metadata": {
        "colab": {
          "base_uri": "https://localhost:8080/"
        },
        "id": "_I98_zY-DeRd",
        "outputId": "2507db91-2dcf-48cf-fe23-4ec25325aa6b"
      },
      "execution_count": null,
      "outputs": [
        {
          "output_type": "stream",
          "name": "stderr",
          "text": [
            "/usr/local/lib/python3.7/dist-packages/jax/_src/ops/scatter.py:90: FutureWarning: scatter inputs have incompatible types: cannot safely cast value from dtype=int64 to dtype=int32. In future JAX releases this will result in an error.\n",
            "  FutureWarning)\n",
            "/usr/local/lib/python3.7/dist-packages/jax/_src/ops/scatter.py:90: FutureWarning: scatter inputs have incompatible types: cannot safely cast value from dtype=int64 to dtype=int32. In future JAX releases this will result in an error.\n",
            "  FutureWarning)\n",
            "/usr/local/lib/python3.7/dist-packages/pysages/methods/abf.py:212: FutureWarning: The sym_pos argument to solve() is deprecated and will be removed in a future JAX release. Use assume_a='pos' instead.\n",
            "  Wp = linalg.solve(Jxi @ Jxi.T, Jxi @ p, sym_pos=\"sym\")\n"
          ]
        }
      ]
    },
    {
      "cell_type": "code",
      "source": [
        "result = pysages.analyze(raw_result)"
      ],
      "metadata": {
        "colab": {
          "base_uri": "https://localhost:8080/"
        },
        "id": "W_FpdfB0iCJ2",
        "outputId": "37eeef3d-a4a6-4c78-c3e6-e3168c3b525e"
      },
      "execution_count": null,
      "outputs": [
        {
          "output_type": "stream",
          "name": "stderr",
          "text": [
            "/usr/local/lib/python3.7/dist-packages/pysages/ml/utils.py:54: FutureWarning: jax.tree_flatten is deprecated, and will be removed in a future release. Use jax.tree_util.tree_flatten instead.\n",
            "  data, structure = tree_flatten(params)\n",
            "/usr/local/lib/python3.7/dist-packages/pysages/ml/optimizers.py:212: FutureWarning: The sym_pos argument to solve() is deprecated and will be removed in a future JAX release. Use assume_a='pos' instead.\n",
            "  dp = solve(H, Je, sym_pos=True)\n",
            "/usr/local/lib/python3.7/dist-packages/pysages/ml/optimizers.py:212: FutureWarning: The sym_pos argument to solve() is deprecated and will be removed in a future JAX release. Use assume_a='pos' instead.\n",
            "  dp = solve(H, Je, sym_pos=True)\n"
          ]
        }
      ]
    },
    {
      "cell_type": "code",
      "source": [
        "free_energy = result[\"free_energy\"]"
      ],
      "metadata": {
        "id": "saG5ZTWlpw13"
      },
      "execution_count": null,
      "outputs": []
    },
    {
      "cell_type": "code",
      "source": [
        "side_length"
      ],
      "metadata": {
        "colab": {
          "base_uri": "https://localhost:8080/"
        },
        "id": "fsYx-aeHMMOE",
        "outputId": "44927c8b-73df-4f04-e2ec-0d622a0136f1"
      },
      "execution_count": null,
      "outputs": [
        {
          "output_type": "execute_result",
          "data": {
            "text/plain": [
              "DeviceArray([250., 250.], dtype=float32)"
            ]
          },
          "metadata": {},
          "execution_count": 27
        }
      ]
    },
    {
      "cell_type": "code",
      "source": [
        "from jax import vmap"
      ],
      "metadata": {
        "id": "BmQaBpw7Mtbw"
      },
      "execution_count": null,
      "outputs": []
    },
    {
      "cell_type": "code",
      "source": [
        "plt.plot(result[\"mesh\"], result[\"free_energy\"])"
      ],
      "metadata": {
        "colab": {
          "base_uri": "https://localhost:8080/",
          "height": 294
        },
        "id": "1SpyE3gSKl2g",
        "outputId": "6997e658-4453-48a5-b854-0eb439faaf34"
      },
      "execution_count": null,
      "outputs": [
        {
          "output_type": "execute_result",
          "data": {
            "text/plain": [
              "[<matplotlib.lines.Line2D at 0x7f7cc23f6fd0>]"
            ]
          },
          "metadata": {},
          "execution_count": 29
        },
        {
          "output_type": "display_data",
          "data": {
            "text/plain": [
              "<Figure size 432x288 with 1 Axes>"
            ],
            "image/png": "[encoded data removed]"
          },
          "metadata": {}
        }
      ]
    },
    {
      "cell_type": "code",
      "source": [],
      "metadata": {
        "id": "MiMRr0oPvFro"
      },
      "execution_count": null,
      "outputs": []
    }
  ]
}